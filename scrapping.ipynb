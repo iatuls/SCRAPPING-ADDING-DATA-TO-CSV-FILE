{
 "cells": [
  {
   "cell_type": "code",
   "execution_count": 70,
   "id": "29fa5ec2-02bd-4770-9bc1-5932105845e2",
   "metadata": {},
   "outputs": [],
   "source": [
    "import requests\n",
    "from bs4 import BeautifulSoup\n",
    "from urllib.request import urlopen as uReq\n",
    "import logging\n",
    "import pandas as pd"
   ]
  },
  {
   "cell_type": "code",
   "execution_count": 78,
   "id": "cbe8dd19-b8ed-4d96-9bd5-b5d2d3bec859",
   "metadata": {},
   "outputs": [],
   "source": [
    "books=[]\n",
    "for i in range(1,21):\n",
    "    url = f\"https://books.toscrape.com/catalogue/page-{i}.html\"\n",
    "    response = requests.get(url)\n",
    "    response = response.content\n",
    "    soup = BeautifulSoup(response , 'html.parser')\n",
    "    ol = soup.find('ol')\n",
    "    articles = ol.find_all('article',class_='product_pod')\n",
    "\n",
    "    for article in articles:\n",
    "        image = article.find('img')\n",
    "        title = image.attrs['alt']\n",
    "        star = article.find('p')['class'][1]\n",
    "        price = article.find('p' , class_ = 'price_color').text\n",
    "        books.append([title, price, star])"
   ]
  },
  {
   "cell_type": "code",
   "execution_count": 79,
   "id": "5cd5b402-b79e-44cf-8d75-c6f1cb864181",
   "metadata": {},
   "outputs": [],
   "source": [
    "df = pd.DataFrame(books, columns=['Title', 'Price', 'Star-Rating'])"
   ]
  },
  {
   "cell_type": "code",
   "execution_count": 80,
   "id": "7440b489-bee7-46d1-a6f8-f3db7acf6849",
   "metadata": {},
   "outputs": [],
   "source": [
    "df.to_csv('books.csv')"
   ]
  },
  {
   "cell_type": "code",
   "execution_count": null,
   "id": "f004b6a9-9821-40cc-b5cc-12ca572a55e2",
   "metadata": {},
   "outputs": [],
   "source": []
  }
 ],
 "metadata": {
  "kernelspec": {
   "display_name": "Python 3 (ipykernel)",
   "language": "python",
   "name": "python3"
  },
  "language_info": {
   "codemirror_mode": {
    "name": "ipython",
    "version": 3
   },
   "file_extension": ".py",
   "mimetype": "text/x-python",
   "name": "python",
   "nbconvert_exporter": "python",
   "pygments_lexer": "ipython3",
   "version": "3.10.6"
  }
 },
 "nbformat": 4,
 "nbformat_minor": 5
}
