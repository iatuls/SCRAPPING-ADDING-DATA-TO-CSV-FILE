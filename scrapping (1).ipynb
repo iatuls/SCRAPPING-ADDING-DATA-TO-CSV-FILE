{
 "cells": [
  {
   "cell_type": "code",
   "execution_count": 125,
   "id": "29fa5ec2-02bd-4770-9bc1-5932105845e2",
   "metadata": {},
   "outputs": [],
   "source": [
    "import requests\n",
    "from bs4 import BeautifulSoup\n",
    "from urllib.request import urlopen as uReq\n",
    "import logging\n",
    "import pandas as pd"
   ]
  },
  {
   "cell_type": "code",
   "execution_count": 126,
   "id": "cbe8dd19-b8ed-4d96-9bd5-b5d2d3bec859",
   "metadata": {},
   "outputs": [],
   "source": [
    "# books=[]\n",
    "# for i in range(1,21):\n",
    "#     url = f\"https://books.toscrape.com/catalogue/page-{i}.html\"\n",
    "#     response = requests.get(url)\n",
    "#     response = response.content\n",
    "#     soup = BeautifulSoup(response , 'html.parser')\n",
    "#     ol = soup.find('ol')\n",
    "#     articles = ol.find_all('article',class_='product_pod')\n",
    "\n",
    "#     for article in articles:\n",
    "#         image = article.find('img')\n",
    "#         title = image.attrs['alt']\n",
    "#         star = article.find('p')['class'][1]\n",
    "#         price = article.find('p' , class_ = 'price_color').text\n",
    "#         books.append([title, price, star])"
   ]
  },
  {
   "cell_type": "code",
   "execution_count": 127,
   "id": "5cd5b402-b79e-44cf-8d75-c6f1cb864181",
   "metadata": {},
   "outputs": [],
   "source": [
    "# df = pd.DataFrame(books, columns=['Title', 'Price', 'Star-Rating'])"
   ]
  },
  {
   "cell_type": "code",
   "execution_count": 128,
   "id": "7440b489-bee7-46d1-a6f8-f3db7acf6849",
   "metadata": {},
   "outputs": [],
   "source": [
    "# df.to_csv('books.csv')"
   ]
  },
  {
   "cell_type": "code",
   "execution_count": 129,
   "id": "f004b6a9-9821-40cc-b5cc-12ca572a55e2",
   "metadata": {},
   "outputs": [],
   "source": [
    "url = 'https://www.flipkart.com/search?q=iphone+12&sid=tyy%2C4io&as=on&as-show=on&otracker=AS_QueryStore_OrganicAutoSuggest_1_1_na_na_na&otracker1=AS_QueryStore_OrganicAutoSuggest_1_1_na_na_na&as-pos=1&as-type=HISTORY&suggestionId=iphone+12%7CMobiles&requestId=4850e8db-c7a9-424b-9f8a-ec29e2c5d1fd&page=1'"
   ]
  },
  {
   "cell_type": "code",
   "execution_count": 130,
   "id": "8b2f64a9-7668-4f7d-8dc2-0cd62932b1bf",
   "metadata": {},
   "outputs": [],
   "source": [
    "response=requests.get(url)"
   ]
  },
  {
   "cell_type": "code",
   "execution_count": 131,
   "id": "a0683bbc-30f5-4989-a062-197ca43cd9ab",
   "metadata": {},
   "outputs": [],
   "source": [
    "response=response.content"
   ]
  },
  {
   "cell_type": "code",
   "execution_count": 132,
   "id": "21374b23-9ce4-42c1-ab68-9a079be27dac",
   "metadata": {},
   "outputs": [],
   "source": [
    "soup = BeautifulSoup(response,'html.parser')"
   ]
  },
  {
   "cell_type": "code",
   "execution_count": 154,
   "id": "f24e0354-0efc-4465-948e-884217287592",
   "metadata": {},
   "outputs": [],
   "source": [
    "name = soup.find('div' , class_ = '_4rR01T').text"
   ]
  },
  {
   "cell_type": "code",
   "execution_count": 155,
   "id": "b4405ae5-5c14-4d28-ad55-c0e846d732b2",
   "metadata": {},
   "outputs": [
    {
     "data": {
      "text/plain": [
       "'APPLE iPhone 12 (Black, 64 GB)'"
      ]
     },
     "execution_count": 155,
     "metadata": {},
     "output_type": "execute_result"
    }
   ],
   "source": [
    "name"
   ]
  },
  {
   "cell_type": "code",
   "execution_count": 157,
   "id": "6a1a6a5b-7da5-494c-a584-65f037faa966",
   "metadata": {},
   "outputs": [],
   "source": [
    "products = soup.find_all('div', class_='_1AtVbE col-12-12')"
   ]
  },
  {
   "cell_type": "code",
   "execution_count": 194,
   "id": "a0343390-ebb2-48dc-a709-5f744e0b1833",
   "metadata": {},
   "outputs": [
    {
     "name": "stdout",
     "output_type": "stream",
     "text": [
      "[]\n",
      "[]\n",
      "[]\n",
      "[]\n",
      "[]\n",
      "[]\n",
      "[]\n",
      "[]\n",
      "[]\n",
      "[]\n",
      "[]\n",
      "[]\n",
      "[]\n",
      "[]\n",
      "[]\n",
      "[]\n",
      "[]\n",
      "[]\n",
      "[]\n",
      "[]\n",
      "[]\n",
      "[]\n",
      "[]\n",
      "[]\n",
      "[]\n",
      "[]\n",
      "[]\n",
      "[]\n",
      "[]\n",
      "[]\n"
     ]
    }
   ],
   "source": [
    "for product in products:\n",
    "\n",
    "    name = product.find('div' , class_ = '_4rR01T')\n",
    "    price = product.find('div' , class_ = \"_30jeq3 _1_WHN1\")\n",
    "    \n",
    "    # discount_per = product.find('div' , class_ = \"_3Ay6Sb\")\n",
    "    # discription = product.find('li' , class_ = \"rgWa7D\")\n",
    "    # discription1 = product.find('li' , class_ = \"rgWa7D\")\n",
    "    # discription2 = product.find('li' , class_ = \"rgWa7D\")\n",
    "    # discription3 = product.find('li' , class_ = \"rgWa7D\")\n",
    "    # discription4 = product.find('li' , class_ = \"rgWa7D\")\n",
    "    # discription5 = product.find('li' , class_ = \"rgWa7D\")\n",
    "\n",
    "\n",
    "    \n",
    "    \n",
    "    print(discription)"
   ]
  },
  {
   "cell_type": "code",
   "execution_count": null,
   "id": "ae0a9983-e889-48c2-b38d-4c44ea7f19f0",
   "metadata": {},
   "outputs": [],
   "source": []
  },
  {
   "cell_type": "code",
   "execution_count": null,
   "id": "87968afa-1621-47f3-8b54-6ff8bc124add",
   "metadata": {},
   "outputs": [],
   "source": []
  },
  {
   "cell_type": "code",
   "execution_count": null,
   "id": "243c5db3-75c5-4cab-8133-f6239d6db9db",
   "metadata": {},
   "outputs": [],
   "source": []
  },
  {
   "cell_type": "code",
   "execution_count": null,
   "id": "84c71022-89d9-4166-beb0-0f748d259050",
   "metadata": {},
   "outputs": [],
   "source": []
  },
  {
   "cell_type": "code",
   "execution_count": null,
   "id": "8bcedf34-37af-49a5-9c09-e35ed37c44ad",
   "metadata": {},
   "outputs": [],
   "source": []
  },
  {
   "cell_type": "code",
   "execution_count": null,
   "id": "afca8a21-8bef-40b9-a556-20703214be57",
   "metadata": {},
   "outputs": [],
   "source": []
  },
  {
   "cell_type": "code",
   "execution_count": null,
   "id": "ba321f1f-67de-497a-bf04-41795cc7bb33",
   "metadata": {},
   "outputs": [],
   "source": []
  },
  {
   "cell_type": "code",
   "execution_count": null,
   "id": "13d9f5e0-5516-48e2-9561-c14f9cb73e9c",
   "metadata": {},
   "outputs": [],
   "source": []
  }
 ],
 "metadata": {
  "kernelspec": {
   "display_name": "Python 3 (ipykernel)",
   "language": "python",
   "name": "python3"
  },
  "language_info": {
   "codemirror_mode": {
    "name": "ipython",
    "version": 3
   },
   "file_extension": ".py",
   "mimetype": "text/x-python",
   "name": "python",
   "nbconvert_exporter": "python",
   "pygments_lexer": "ipython3",
   "version": "3.10.6"
  }
 },
 "nbformat": 4,
 "nbformat_minor": 5
}
